{
  "nbformat": 4,
  "nbformat_minor": 0,
  "metadata": {
    "colab": {
      "provenance": [],
      "authorship_tag": "ABX9TyPsBe/AUrN0fpuqgppEYrx8",
      "include_colab_link": true
    },
    "kernelspec": {
      "name": "python3",
      "display_name": "Python 3"
    },
    "language_info": {
      "name": "python"
    }
  },
  "cells": [
    {
      "cell_type": "markdown",
      "metadata": {
        "id": "view-in-github",
        "colab_type": "text"
      },
      "source": [
        "<a href=\"https://colab.research.google.com/github/sardarnick/dataanalysiscolab/blob/main/datacleansing_exercise.ipynb\" target=\"_parent\"><img src=\"https://colab.research.google.com/assets/colab-badge.svg\" alt=\"Open In Colab\"/></a>"
      ]
    },
    {
      "cell_type": "code",
      "execution_count": 6,
      "metadata": {
        "colab": {
          "base_uri": "https://localhost:8080/"
        },
        "id": "rSAbKQPo5kzQ",
        "outputId": "b20c607f-28c8-47e7-fb1c-fe5571e5f018"
      },
      "outputs": [
        {
          "output_type": "stream",
          "name": "stdout",
          "text": [
            "Car_Name         0\n",
            "Year             0\n",
            "Selling_Price    0\n",
            "Present_Price    0\n",
            "Kms_Driven       0\n",
            "Fuel_Type        0\n",
            "Seller_Type      0\n",
            "Transmission     0\n",
            "Owner            0\n",
            "dtype: int64\n",
            "Car_Name         0\n",
            "Year             0\n",
            "Selling_Price    0\n",
            "Present_Price    0\n",
            "Kms_Driven       0\n",
            "Fuel_Type        0\n",
            "Seller_Type      0\n",
            "Transmission     0\n",
            "Owner            0\n",
            "dtype: int64\n"
          ]
        }
      ],
      "source": [
        "# Load the dataset\n",
        "import pandas as pd\n",
        "\n",
        "file_path = \"DataCleaningExercise.csv\"  # Adjust path in Colab\n",
        "df = pd.read_csv(file_path)\n",
        "df['Kms_Driven'] = df['Kms_Driven'].str.replace('k', '000')\n",
        "# Convert 'Kms_Driven' to integer\n",
        "df['Kms_Driven'] = df['Kms_Driven'].str.replace(',', '').astype(int)\n",
        "\n",
        "# Check for missing values\n",
        "print(df.isnull().sum())\n",
        "df = df.dropna()  # Removes all rows with any missing values\n",
        "print(df.isnull().sum())\n",
        "# Remove duplicates\n",
        "#df = df.drop_duplicates()\n",
        "\n",
        "# Standardize column names\n",
        "#df.columns = df.columns.str.lower().str.replace(' ', '_')\n",
        "\n",
        "# Convert categorical columns to category type\n",
        "#categorical_cols = ['fuel_type', 'seller_type', 'transmission']\n",
        "#df[categorical_cols] = df[categorical_cols].astype('category')\n",
        "\n",
        "# Check for outliers in numerical columns\n",
        "#import matplotlib.pyplot as plt\n",
        "#df[['selling_price', 'present_price', 'kms_driven']].boxplot()\n",
        "#plt.show()\n",
        "\n",
        "# Save the cleaned dataset\n",
        "#df.to_csv('/content/Cleaned_Data.csv', index=False)\n",
        "\n",
        "#print(\"Data cleaning complete. Cleaned file saved as 'Cleaned_Data.csv'.\")"
      ]
    }
  ]
}